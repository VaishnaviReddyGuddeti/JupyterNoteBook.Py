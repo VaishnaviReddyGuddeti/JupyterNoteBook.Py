{
 "cells": [
  {
   "cell_type": "code",
   "execution_count": 4,
   "metadata": {},
   "outputs": [
    {
     "name": "stdout",
     "output_type": "stream",
     "text": [
      "19\n"
     ]
    }
   ],
   "source": [
    "def add(a,b):\n",
    "    return a + b\n",
    "\n",
    "def sub(a,b):\n",
    "    return a - b\n",
    "\n",
    "def mul(a,b):\n",
    "    return a * b\n",
    "\n",
    "def divide(a,b):\n",
    "    return a/b\n",
    "\n",
    "def simpleintrest(p,r,t):\n",
    "    return (p*r*t) /100\n",
    "\n",
    "def compountintrest(P,R,T):\n",
    "    return P * pow((1 + R/100), T)\n",
    "\n",
    "def sqr(num):\n",
    "    return num**2\n",
    "\n",
    "print(add(10,9))"
   ]
  },
  {
   "cell_type": "code",
   "execution_count": 7,
   "metadata": {},
   "outputs": [
    {
     "name": "stdout",
     "output_type": "stream",
     "text": [
      "9\n"
     ]
    }
   ],
   "source": [
    "def add(a,b):\n",
    "    return a + b\n",
    "\n",
    "def sub(a,b):\n",
    "    return a - b\n",
    "\n",
    "def mul(a,b):\n",
    "    return a * b\n",
    "\n",
    "def divide(a,b):\n",
    "    return a/b\n",
    "\n",
    "def simpleintrest(p,r,t):\n",
    "    return (p*r*t) /100\n",
    "\n",
    "def compountintrest(P,R,T):\n",
    "    return P * pow((1 + R/100), T)\n",
    "\n",
    "def sqr(num):\n",
    "    return num**2\n",
    "\n",
    "print(sub(10,1))"
   ]
  },
  {
   "cell_type": "code",
   "execution_count": 8,
   "metadata": {},
   "outputs": [
    {
     "name": "stdout",
     "output_type": "stream",
     "text": [
      "90\n"
     ]
    }
   ],
   "source": [
    "def add(a,b):\n",
    "    return a + b\n",
    "\n",
    "def sub(a,b):\n",
    "    return a - b\n",
    "\n",
    "def mul(a,b):\n",
    "    return a * b\n",
    "\n",
    "def divide(a,b):\n",
    "    return a/b\n",
    "\n",
    "def simpleintrest(p,r,t):\n",
    "    return (p*r*t) /100\n",
    "\n",
    "def compountintrest(P,R,T):\n",
    "    return P * pow((1 + R/100), T)\n",
    "\n",
    "def sqr(num):\n",
    "    return num**2\n",
    "\n",
    "print(mul(10,9))"
   ]
  },
  {
   "cell_type": "code",
   "execution_count": 9,
   "metadata": {},
   "outputs": [
    {
     "name": "stdout",
     "output_type": "stream",
     "text": [
      "5.0\n"
     ]
    }
   ],
   "source": [
    "def add(a,b):\n",
    "    return a + b\n",
    "\n",
    "def sub(a,b):\n",
    "    return a - b\n",
    "\n",
    "def mul(a,b):\n",
    "    return a * b\n",
    "\n",
    "def divide(a,b):\n",
    "    return a/b\n",
    "\n",
    "def simpleintrest(p,r,t):\n",
    "    return (p*r*t) /100\n",
    "\n",
    "def compountintrest(P,R,T):\n",
    "    return P * pow((1 + R/100), T)\n",
    "\n",
    "def sqr(num):\n",
    "    return num**2\n",
    "\n",
    "print(divide(10,2))"
   ]
  },
  {
   "cell_type": "code",
   "execution_count": 10,
   "metadata": {},
   "outputs": [
    {
     "name": "stdout",
     "output_type": "stream",
     "text": [
      "5000.0\n"
     ]
    }
   ],
   "source": [
    "def add(a,b):\n",
    "    return a + b\n",
    "\n",
    "def sub(a,b):\n",
    "    return a - b\n",
    "\n",
    "def mul(a,b):\n",
    "    return a * b\n",
    "\n",
    "def divide(a,b):\n",
    "    return a/b\n",
    "\n",
    "def si(p,r,t):\n",
    "    return (p*r*t) /100\n",
    "\n",
    "def ci(P,R,T):\n",
    "    return P * pow((1 + R/100), T)\n",
    "\n",
    "def sqr(num):\n",
    "    return num**2\n",
    "\n",
    "print(si(10000,10,5))"
   ]
  },
  {
   "cell_type": "code",
   "execution_count": 13,
   "metadata": {},
   "outputs": [
    {
     "name": "stdout",
     "output_type": "stream",
     "text": [
      "21.71893279442311\n"
     ]
    }
   ],
   "source": [
    "def add(a,b):\n",
    "    return a + b\n",
    "\n",
    "def sub(a,b):\n",
    "    return a - b\n",
    "\n",
    "def mul(a,b):\n",
    "    return a * b\n",
    "\n",
    "def divide(a,b):\n",
    "    return a/b\n",
    "\n",
    "def si(p,r,t):\n",
    "    return (p*r*t) /100\n",
    "\n",
    "def ci(P,R,T):\n",
    "    return P * pow((1 + R/100), T)\n",
    "\n",
    "def sqr(num):\n",
    "    return num**2\n",
    "\n",
    "print(ci(10,9,9))"
   ]
  },
  {
   "cell_type": "code",
   "execution_count": 16,
   "metadata": {},
   "outputs": [
    {
     "name": "stdout",
     "output_type": "stream",
     "text": [
      "4\n"
     ]
    }
   ],
   "source": [
    "def add(a,b):\n",
    "    return a + b\n",
    "\n",
    "def sub(a,b):\n",
    "    return a - b\n",
    "\n",
    "def mul(a,b):\n",
    "    return a * b\n",
    "\n",
    "def divide(a,b):\n",
    "    return a/b\n",
    "\n",
    "def simpleintrest(p,r,t):\n",
    "    return (p*r*t) /100\n",
    "\n",
    "def compountintrest(P,R,T):\n",
    "    return P * pow((1 + R/100), T)\n",
    "\n",
    "def sqr(num):\n",
    "    return num**2\n",
    "\n",
    "print(sqr(2))"
   ]
  },
  {
   "cell_type": "code",
   "execution_count": 24,
   "metadata": {},
   "outputs": [
    {
     "name": "stdout",
     "output_type": "stream",
     "text": [
      "19\n",
      "2\n",
      "4\n",
      "5.0\n",
      "5000.0\n",
      "21.71893279442311\n",
      "9\n"
     ]
    }
   ],
   "source": [
    "def add(a,b):\n",
    "    return a + b\n",
    "\n",
    "def sub(a,b):\n",
    "    return a - b\n",
    "\n",
    "def mul(a,b):\n",
    "    return a * b\n",
    "\n",
    "def divide(a,b):\n",
    "    return a/b\n",
    "\n",
    "def simpleintrest(p,r,t):\n",
    "    return (p*r*t) /100\n",
    "\n",
    "def compountintrest(P,R,T):\n",
    "    return P * pow((1 + R/100), T)\n",
    "\n",
    "def sqr(num):\n",
    "    return num**2\n",
    "\n",
    "print(add(10,9))\n",
    "print(sub(3,1))\n",
    "print(mul(2,2))\n",
    "print(divide(10,2))\n",
    "print(si(10000,10,5))\n",
    "print(ci(10,9,9))\n",
    "print(sqr(3))"
   ]
  },
  {
   "cell_type": "code",
   "execution_count": null,
   "metadata": {},
   "outputs": [],
   "source": []
  }
 ],
 "metadata": {
  "kernelspec": {
   "display_name": "Python 3",
   "language": "python",
   "name": "python3"
  },
  "language_info": {
   "codemirror_mode": {
    "name": "ipython",
    "version": 3
   },
   "file_extension": ".py",
   "mimetype": "text/x-python",
   "name": "python",
   "nbconvert_exporter": "python",
   "pygments_lexer": "ipython3",
   "version": "3.8.5"
  }
 },
 "nbformat": 4,
 "nbformat_minor": 4
}
